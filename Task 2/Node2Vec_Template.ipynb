{
 "cells": [
  {
   "cell_type": "code",
   "execution_count": null,
   "id": "1564e6d0-da46-494b-921a-a8066b776655",
   "metadata": {},
   "outputs": [],
   "source": [
    "import numpy as np\n",
    "import pandas as pd\n",
    "import networkx as nx\n",
    "from networkx.algorithms import community\n",
    "import matplotlib.pyplot as plt\n",
    "import torch\n",
    "import torch.optim as optim\n",
    "from torch_geometric.nn import Node2Vec\n",
    "from torch_geometric.utils.convert import from_networkx\n",
    "from torch_geometric.utils import degree, to_networkx\n",
    "from torch_geometric.data import Data\n",
    "import torch.nn.functional as F\n",
    "from torch_geometric.nn import GCNConv\n",
    "from sklearn.cluster import KMeans\n",
    "from sklearn.cluster import DBSCAN\n",
    "from sklearn.neighbors import NearestNeighbors"
   ]
  },
  {
   "cell_type": "code",
   "execution_count": null,
   "id": "9f8d852a-0499-45e4-9b9c-e1623c0e7b9b",
   "metadata": {},
   "outputs": [],
   "source": [
    "# Load the provided CSV files\n",
    "kyc_path = 'kyc.csv'\n",
    "cash_trxns_path = 'cash_trxns.csv'\n",
    "emt_trxns_path = 'emt_trxns.csv'\n",
    "wire_trxns_path = 'wire_trxns.csv'\n",
    "\n",
    "# Read the data\n",
    "kyc_data = pd.read_csv(kyc_path).drop(columns=['label'])  # Dropping 'label' as instructed\n",
    "cash_trxns_data = pd.read_csv(cash_trxns_path)\n",
    "emt_trxns_data = pd.read_csv(emt_trxns_path)\n",
    "wire_trxns_data = pd.read_csv(wire_trxns_path)"
   ]
  },
  {
   "cell_type": "code",
   "execution_count": null,
   "id": "63852821-78f9-422e-96e1-97789b445b24",
   "metadata": {},
   "outputs": [],
   "source": [
    "cash_trxns_data['transaction_type'] = 'cash'\n",
    "emt_trxns_data['transaction_type'] = 'emt'\n",
    "wire_trxns_data['transaction_type'] = 'wire'\n",
    "\n",
    "# Rename columns for uniformity\n",
    "emt_trxns_data.rename(columns={'id sender': 'cust_id_sender', 'id receiver': 'cust_id_receiver', 'emt value': 'amount'}, inplace=True)\n",
    "wire_trxns_data.rename(columns={'id sender': 'cust_id_sender', 'id receiver': 'cust_id_receiver', 'wire value': 'amount'}, inplace=True)\n",
    "cash_trxns_data.rename(columns={'cust_id': 'cust_id_sender', 'value': 'amount'}, inplace=True)"
   ]
  },
  {
   "cell_type": "code",
   "execution_count": null,
   "id": "37157773-6e79-451b-b931-3e4ac18ffa14",
   "metadata": {},
   "outputs": [],
   "source": [
    "transactions_combined = pd.concat([\n",
    "    cash_trxns_data[['cust_id_sender', 'amount', 'transaction_type']],\n",
    "    emt_trxns_data[['cust_id_sender', 'cust_id_receiver', 'amount', 'transaction_type']],\n",
    "    wire_trxns_data[['cust_id_sender', 'cust_id_receiver', 'amount', 'transaction_type']]\n",
    "], ignore_index=True)\n",
    "transactions_combined['cust_id_receiver'].fillna('NoReceiver', inplace=True)"
   ]
  },
  {
   "cell_type": "code",
   "execution_count": null,
   "id": "d209800e-d3ab-427b-808f-80d68f23d5b4",
   "metadata": {},
   "outputs": [],
   "source": [
    "# Create a unique list of all customer IDs\n",
    "all_cust_ids = pd.concat([transactions_combined['cust_id_sender'], transactions_combined['cust_id_receiver']]).unique()\n",
    "cust_id_to_index = {cust_id: i for i, cust_id in enumerate(all_cust_ids)}\n",
    "\n",
    "# Map customer IDs to indices\n",
    "transactions_combined['sender_idx'] = transactions_combined['cust_id_sender'].map(cust_id_to_index)\n",
    "transactions_combined['receiver_idx'] = transactions_combined['cust_id_receiver'].map(cust_id_to_index)"
   ]
  },
  {
   "cell_type": "code",
   "execution_count": null,
   "id": "b7f6a8a0-bdd7-4e96-b93a-246653ff6725",
   "metadata": {},
   "outputs": [],
   "source": [
    "# Convert to tensors\n",
    "edge_index = torch.tensor(transactions_combined[['sender_idx', 'receiver_idx']].values.T, dtype=torch.long)\n",
    "edge_attr = torch.tensor(transactions_combined['amount'].values, dtype=torch.float).unsqueeze(1)  # Add dimension for attributes"
   ]
  },
  {
   "cell_type": "code",
   "execution_count": null,
   "id": "577f86b8-b0fe-4f34-9b40-7a44272c3351",
   "metadata": {},
   "outputs": [],
   "source": [
    "# Construct graph data object\n",
    "data = Data(edge_index=edge_index, edge_attr=edge_attr)"
   ]
  },
  {
   "cell_type": "code",
   "execution_count": null,
   "id": "a70ef4be-83a7-48fb-a577-e1218da963c6",
   "metadata": {},
   "outputs": [],
   "source": [
    "# Convert PyTorch Geometric graph data to a NetworkX graph\n",
    "G_nx = to_networkx(data, to_undirected=True)\n",
    "\n",
    "# Check if the graph is connected\n",
    "is_connected = nx.is_connected(G_nx)\n",
    "print(f\"Is the graph connected? {is_connected}\")\n",
    "\n",
    "# Connected components analysis\n",
    "if not is_connected:\n",
    "    connected_components = list(nx.connected_components(G_nx))\n",
    "    num_components = len(connected_components)\n",
    "    largest_component_size = max(len(c) for c in connected_components)\n",
    "    print(f\"Number of connected components: {num_components}\")\n",
    "    print(f\"Largest component size: {largest_component_size}\")"
   ]
  },
  {
   "cell_type": "code",
   "execution_count": null,
   "id": "76f2edda-4d8c-45ef-80ab-34d5915ee5d2",
   "metadata": {},
   "outputs": [],
   "source": [
    "#Need to run the below code with three different values of q: 0.5, 1, 2"
   ]
  },
  {
   "cell_type": "code",
   "execution_count": null,
   "id": "8aeca74f-13a3-4b1e-b1a9-867e71f73185",
   "metadata": {},
   "outputs": [],
   "source": [
    "device = torch.device('cuda' if torch.cuda.is_available() else 'cpu')\n",
    "data = data.to(device)\n",
    "\n",
    "model = Node2Vec(\n",
    "    edge_index=data.edge_index, \n",
    "    embedding_dim=128, \n",
    "    walk_length=20, \n",
    "    context_size=10, \n",
    "    walks_per_node=30, \n",
    "    num_negative_samples=1, \n",
    "    p=1.0, \n",
    "    q=0.5, \n",
    "    sparse=True\n",
    ").to(device)\n",
    "\n",
    "optimizer = optim.SparseAdam(model.parameters(), lr=0.01)\n",
    "# Training function\n",
    "def train():\n",
    "    model.train()\n",
    "    total_loss = 0\n",
    "    for pos_rw, neg_rw in model.loader(batch_size=128, shuffle=True, num_workers=0):\n",
    "        optimizer.zero_grad()\n",
    "        loss = model.loss(pos_rw.to(device), neg_rw.to(device))\n",
    "        loss.backward()\n",
    "        optimizer.step()\n",
    "        total_loss += loss.item()\n",
    "    return total_loss / len(model.loader(batch_size=128, num_workers=1))\n",
    "    # Train the model\n",
    "for epoch in range(1,20):\n",
    "    loss = train()\n",
    "    print(f'Epoch: {epoch:03d}, Loss: {loss:.4f}')"
   ]
  },
  {
   "cell_type": "code",
   "execution_count": null,
   "id": "c30d4cd5-a2e3-4a7a-9a3f-25c7323e6873",
   "metadata": {},
   "outputs": [],
   "source": [
    "# Generate embeddings\n",
    "model.eval()\n",
    "with torch.no_grad():\n",
    "    embeddings = model(torch.arange(data.num_nodes, device=device))"
   ]
  },
  {
   "cell_type": "code",
   "execution_count": null,
   "id": "254b5322-1ced-4eb2-8a84-4797dfd05174",
   "metadata": {},
   "outputs": [],
   "source": [
    "torch.save(embeddings, 'node_embeddings.pt')"
   ]
  },
  {
   "cell_type": "code",
   "execution_count": null,
   "id": "cfd22680-b7fd-4004-ace2-9969b9ebf5cb",
   "metadata": {},
   "outputs": [],
   "source": [
    "import pickle\n",
    "with open('cust_id_to_index_1.pkl', 'wb') as f:\n",
    "    pickle.dump(cust_id_to_index, f)"
   ]
  },
  {
   "cell_type": "code",
   "execution_count": null,
   "id": "defe2612-c97a-4337-9cb2-c6ae684dd9ef",
   "metadata": {},
   "outputs": [],
   "source": [
    "mean = torch.mean(embeddings, 0)\n",
    "embeddings_centered = embeddings - mean\n",
    "\n",
    "U, S, V = torch.svd(embeddings_centered)\n",
    "\n",
    "# Number of principal components\n",
    "num_components = 2 \n",
    "embeddings_reduced = torch.matmul(embeddings_centered, V[:, :num_components])\n",
    "embeddings_reduced_np = embeddings_reduced.cpu().detach().numpy() \n",
    "print(embeddings_reduced.shape) "
   ]
  },
  {
   "cell_type": "code",
   "execution_count": null,
   "id": "59851b44-31a2-4e7a-a5d3-a8a10be57a92",
   "metadata": {},
   "outputs": [],
   "source": [
    "def calculate_sse(X, labels, centroids):\n",
    "    return sum(torch.norm(X[labels == i] - centroids[i], dim=1).sum() for i in range(len(centroids))).item()\n",
    "\n",
    "X = torch.tensor(embeddings_reduced_np, device='cuda')\n",
    "\n",
    "sse_list = []\n",
    "for n_clusters in range(1, 10):  # Example: trying 1 to 10 clusters\n",
    "    labels, centroids = k_means(X, n_clusters=n_clusters)\n",
    "    sse = calculate_sse(X, labels, centroids)\n",
    "    sse_list.append(sse)\n",
    "\n",
    "plt.figure(figsize=(10, 6))\n",
    "plt.plot(range(1, 10), sse_list, marker='o')\n",
    "plt.title('Elbow Method for Optimal Number of Clusters')\n",
    "plt.xlabel('Number of clusters')\n",
    "plt.ylabel('Sum of squared distances')\n",
    "plt.show()"
   ]
  },
  {
   "cell_type": "code",
   "execution_count": null,
   "id": "595929af-0405-4c06-b413-befdb81ba220",
   "metadata": {},
   "outputs": [],
   "source": [
    "def k_means(X, n_clusters, n_iters=300, tol=1e-4):\n",
    "    centroids = X[np.random.choice(X.shape[0], n_clusters, replace=False)]\n",
    "\n",
    "    for _ in range(n_iters):\n",
    "        distances = torch.cdist(X, centroids)\n",
    "        labels = torch.argmin(distances, dim=1)\n",
    "\n",
    "        new_centroids = torch.stack([X[labels == i].mean(0) for i in range(n_clusters)])\n",
    "        \n",
    "        # Check for convergence\n",
    "        if torch.norm(centroids - new_centroids) < tol:\n",
    "            break\n",
    "        \n",
    "        centroids = new_centroids\n",
    "\n",
    "    return labels, centroids\n",
    "\n",
    "X = torch.tensor(embeddings_reduced_np, device='cuda') \n",
    "n_clusters = 5\n",
    "labels, centroids = k_means(X, n_clusters=n_clusters)"
   ]
  },
  {
   "cell_type": "code",
   "execution_count": null,
   "id": "20111afc-3acc-4327-90f8-292ecb3062f4",
   "metadata": {},
   "outputs": [],
   "source": [
    "labels_np = labels.cpu().numpy()\n",
    "\n",
    "unique_clusters, counts = np.unique(labels_np, return_counts=True)\n",
    "\n",
    "print(\"Unique clusters:\", unique_clusters)\n",
    "print(\"Counts:\", counts)"
   ]
  },
  {
   "cell_type": "code",
   "execution_count": null,
   "id": "d7057b78-659a-4ccc-9a6d-af76a518f272",
   "metadata": {},
   "outputs": [],
   "source": []
  }
 ],
 "metadata": {
  "kernelspec": {
   "display_name": "Python 3 (ipykernel)",
   "language": "python",
   "name": "python3"
  },
  "language_info": {
   "codemirror_mode": {
    "name": "ipython",
    "version": 3
   },
   "file_extension": ".py",
   "mimetype": "text/x-python",
   "name": "python",
   "nbconvert_exporter": "python",
   "pygments_lexer": "ipython3",
   "version": "3.8.1"
  }
 },
 "nbformat": 4,
 "nbformat_minor": 5
}
