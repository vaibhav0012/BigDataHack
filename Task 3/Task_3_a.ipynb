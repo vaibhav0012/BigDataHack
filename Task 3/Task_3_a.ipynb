{
 "cells": [
  {
   "cell_type": "code",
   "execution_count": 2,
   "id": "69cc746a-1040-4c84-8602-49bc7e556b3c",
   "metadata": {},
   "outputs": [
    {
     "ename": "SyntaxError",
     "evalue": "invalid syntax (<ipython-input-2-0c837e0cf1df>, line 2)",
     "output_type": "error",
     "traceback": [
      "\u001b[1;36m  Cell \u001b[1;32mIn[2], line 2\u001b[1;36m\u001b[0m\n\u001b[1;33m    python -m spacy download en_core_web_sm\u001b[0m\n\u001b[1;37m              ^\u001b[0m\n\u001b[1;31mSyntaxError\u001b[0m\u001b[1;31m:\u001b[0m invalid syntax\n"
     ]
    }
   ],
   "source": [
    "#!pip install spacy\n",
    "#python -m spacy download en_core_web_sm"
   ]
  },
  {
   "cell_type": "code",
   "execution_count": 1,
   "id": "709ee66f-69c3-4a5b-ba11-f14a94b5344e",
   "metadata": {
    "ExecuteTime": {
     "end_time": "2024-02-15T12:52:49.177604Z",
     "start_time": "2024-02-15T12:52:48.921153Z"
    }
   },
   "outputs": [
    {
     "name": "stderr",
     "output_type": "stream",
     "text": [
      "C:\\Users\\HP\\anaconda3\\envs\\mla\\lib\\site-packages\\tqdm\\auto.py:21: TqdmWarning: IProgress not found. Please update jupyter and ipywidgets. See https://ipywidgets.readthedocs.io/en/stable/user_install.html\n",
      "  from .autonotebook import tqdm as notebook_tqdm\n"
     ]
    }
   ],
   "source": [
    "import numpy as np\n",
    "import pandas as pd\n",
    "import networkx as nx\n",
    "import matplotlib as mpl\n",
    "import matplotlib.pyplot as plt\n",
    "import seaborn as sns\n",
    "import json\n",
    "from dask import delayed, compute\n",
    "import dask\n",
    "from gensim.models import Word2Vec\n",
    "import spacy\n",
    "#import cupy as cp\n",
    "#import cugraph as cg\n",
    "#import cudf\n",
    "import networkx as nx\n",
    "from node2vec import Node2Vec\n",
    "import pickle\n",
    "import json"
   ]
  },
  {
   "cell_type": "code",
   "execution_count": 2,
   "id": "01a93375-dc13-420b-97d5-32729c9bde0c",
   "metadata": {
    "ExecuteTime": {
     "end_time": "2024-02-15T12:52:54.218122Z",
     "start_time": "2024-02-15T12:52:54.167562Z"
    }
   },
   "outputs": [],
   "source": [
    "import json\n",
    "import pandas as pd\n",
    "\n",
    "# Correctly loading JSON data and handling it based on its structure\n",
    "with open('upd_article_url.json') as f:\n",
    "    data = json.load(f)\n",
    "if isinstance(data, list):\n",
    "    url_1 = pd.DataFrame(data)\n",
    "elif isinstance(data, dict):\n",
    "    url_1 = pd.DataFrame.from_dict(data, orient='index')\n",
    "\n",
    "with open('upd_article_url_1.json') as f:\n",
    "    data = json.load(f)\n",
    "if isinstance(data, list):\n",
    "    url_2 = pd.DataFrame(data)\n",
    "elif isinstance(data, dict):\n",
    "    url_2 = pd.DataFrame.from_dict(data, orient='index')\n",
    "with open('upd_article_url_2.json') as f:\n",
    "    data = json.load(f)\n",
    "if isinstance(data, list):\n",
    "    url_3 = pd.DataFrame(data)\n",
    "elif isinstance(data, dict):\n",
    "    url_3 = pd.DataFrame.from_dict(data, orient='index')\n",
    "with open('upd_article_url_3.json') as f:\n",
    "    data = json.load(f)\n",
    "if isinstance(data, list):\n",
    "    url_4 = pd.DataFrame(data)\n",
    "elif isinstance(data, dict):\n",
    "    url_4 = pd.DataFrame.from_dict(data, orient='index')"
   ]
  },
  {
   "cell_type": "code",
   "execution_count": 3,
   "id": "31364e57-ae37-4146-8c4f-8eb4d3a09a2e",
   "metadata": {
    "ExecuteTime": {
     "end_time": "2024-02-15T12:52:55.880179Z",
     "start_time": "2024-02-15T12:52:55.865546Z"
    }
   },
   "outputs": [],
   "source": [
    "url_dt = pd.concat([url_1, url_2, url_3, url_4], axis=0)\n",
    "url_dt.drop_duplicates(subset=['url'], inplace = True)"
   ]
  },
  {
   "cell_type": "code",
   "execution_count": 4,
   "id": "62b71af6-7e9a-46f4-8a9e-3d9830c87779",
   "metadata": {
    "ExecuteTime": {
     "end_time": "2024-02-15T12:52:58.256128Z",
     "start_time": "2024-02-15T12:52:58.251546Z"
    }
   },
   "outputs": [
    {
     "data": {
      "text/plain": [
       "(40630, 2)"
      ]
     },
     "execution_count": 4,
     "metadata": {},
     "output_type": "execute_result"
    }
   ],
   "source": [
    "url_dt.shape"
   ]
  },
  {
   "cell_type": "code",
   "execution_count": 5,
   "id": "16cb8e42-1845-4b98-8dd8-5a0f11ce6abb",
   "metadata": {
    "ExecuteTime": {
     "end_time": "2024-02-15T12:55:14.863927Z",
     "start_time": "2024-02-15T12:54:46.763342Z"
    }
   },
   "outputs": [],
   "source": [
    "df = pd.read_csv('final.csv')\n",
    "#df.head(10)"
   ]
  },
  {
   "cell_type": "code",
   "execution_count": 6,
   "id": "91f62139-992f-4a22-b3b7-ae33e97a0c11",
   "metadata": {
    "ExecuteTime": {
     "end_time": "2024-02-15T12:55:21.046784Z",
     "start_time": "2024-02-15T12:55:20.263984Z"
    }
   },
   "outputs": [
    {
     "data": {
      "text/html": [
       "<div>\n",
       "<style scoped>\n",
       "    .dataframe tbody tr th:only-of-type {\n",
       "        vertical-align: middle;\n",
       "    }\n",
       "\n",
       "    .dataframe tbody tr th {\n",
       "        vertical-align: top;\n",
       "    }\n",
       "\n",
       "    .dataframe thead th {\n",
       "        text-align: right;\n",
       "    }\n",
       "</style>\n",
       "<table border=\"1\" class=\"dataframe\">\n",
       "  <thead>\n",
       "    <tr style=\"text-align: right;\">\n",
       "      <th></th>\n",
       "      <th>Unnamed: 0</th>\n",
       "      <th>name</th>\n",
       "      <th>url</th>\n",
       "      <th>content</th>\n",
       "      <th>tokens</th>\n",
       "    </tr>\n",
       "  </thead>\n",
       "  <tbody>\n",
       "    <tr>\n",
       "      <th>0</th>\n",
       "      <td>0</td>\n",
       "      <td>Sarah Perez</td>\n",
       "      <td>https://techcrunch.com/2012/12/04/google-annou...</td>\n",
       "      <td>TechCrunch plus-bold TechCrunch Open Navigatio...</td>\n",
       "      <td>['tech', '##cr', '##un', '##ch', 'plus', '-', ...</td>\n",
       "    </tr>\n",
       "    <tr>\n",
       "      <th>1</th>\n",
       "      <td>1</td>\n",
       "      <td>Dr.Robert Mueller</td>\n",
       "      <td>https://www.nytimes.com/2023/07/11/us/politics...</td>\n",
       "      <td>Skip to content Skip to site index Politics To...</td>\n",
       "      <td>['skip', 'to', 'content', 'skip', 'to', 'site'...</td>\n",
       "    </tr>\n",
       "    <tr>\n",
       "      <th>2</th>\n",
       "      <td>2</td>\n",
       "      <td>Sarah Perez</td>\n",
       "      <td>https://techcrunch.com/2020/05/06/facebook-exo...</td>\n",
       "      <td>TechCrunch plus-bold TechCrunch Open Navigatio...</td>\n",
       "      <td>['tech', '##cr', '##un', '##ch', 'plus', '-', ...</td>\n",
       "    </tr>\n",
       "    <tr>\n",
       "      <th>3</th>\n",
       "      <td>3</td>\n",
       "      <td>Dr.Robert Mueller</td>\n",
       "      <td>https://www.nytimes.com/2021/05/27/health/wuha...</td>\n",
       "      <td>Skip to content Skip to site index Health Toda...</td>\n",
       "      <td>['skip', 'to', 'content', 'skip', 'to', 'site'...</td>\n",
       "    </tr>\n",
       "    <tr>\n",
       "      <th>4</th>\n",
       "      <td>4</td>\n",
       "      <td>Jeffrey Price</td>\n",
       "      <td>https://hakaimagazine.com/news/hawksbill-turtl...</td>\n",
       "      <td>Hakai Magazine Skip to content Coastal science...</td>\n",
       "      <td>['ha', '##kai', 'magazine', 'skip', 'to', 'con...</td>\n",
       "    </tr>\n",
       "    <tr>\n",
       "      <th>...</th>\n",
       "      <td>...</td>\n",
       "      <td>...</td>\n",
       "      <td>...</td>\n",
       "      <td>...</td>\n",
       "      <td>...</td>\n",
       "    </tr>\n",
       "    <tr>\n",
       "      <th>46560</th>\n",
       "      <td>46560</td>\n",
       "      <td>Joseph Greer</td>\n",
       "      <td>https://cw39.com/news/local/watch-live-harris-...</td>\n",
       "      <td>Skip to content CW39 Houston Houston 58° WATCH...</td>\n",
       "      <td>['skip', 'to', 'content', 'cw', '##39', 'houst...</td>\n",
       "    </tr>\n",
       "    <tr>\n",
       "      <th>46561</th>\n",
       "      <td>46561</td>\n",
       "      <td>James Brown</td>\n",
       "      <td>https://www.mirror.co.uk/news/world-news/fugit...</td>\n",
       "      <td>US Edition ▼ US Edition UK Edition Irish Mirro...</td>\n",
       "      <td>['us', 'edition', '[UNK]', 'us', 'edition', 'u...</td>\n",
       "    </tr>\n",
       "    <tr>\n",
       "      <th>46562</th>\n",
       "      <td>46562</td>\n",
       "      <td>Erik Thompson</td>\n",
       "      <td>https://www.breakingbelizenews.com/2022/08/25/...</td>\n",
       "      <td>Submit News 501-666-6726 [email protected] Hom...</td>\n",
       "      <td>['submit', 'news', '501', '-', '66', '##6', '-...</td>\n",
       "    </tr>\n",
       "    <tr>\n",
       "      <th>46563</th>\n",
       "      <td>46563</td>\n",
       "      <td>Matthew Scott</td>\n",
       "      <td>https://www.somersetlive.co.uk/news/local-news...</td>\n",
       "      <td>somersetlive Load mobile navigation News Lates...</td>\n",
       "      <td>['somerset', '##li', '##ve', 'load', 'mobile',...</td>\n",
       "    </tr>\n",
       "    <tr>\n",
       "      <th>46566</th>\n",
       "      <td>46566</td>\n",
       "      <td>Matthew Scott</td>\n",
       "      <td>https://www.dorsetecho.co.uk/news/18305867.sco...</td>\n",
       "      <td>Newsletters Jobs Homes Motoring Local Listings...</td>\n",
       "      <td>['newsletter', '##s', 'jobs', 'homes', 'motor'...</td>\n",
       "    </tr>\n",
       "  </tbody>\n",
       "</table>\n",
       "<p>40245 rows × 5 columns</p>\n",
       "</div>"
      ],
      "text/plain": [
       "       Unnamed: 0               name  \\\n",
       "0               0        Sarah Perez   \n",
       "1               1  Dr.Robert Mueller   \n",
       "2               2        Sarah Perez   \n",
       "3               3  Dr.Robert Mueller   \n",
       "4               4      Jeffrey Price   \n",
       "...           ...                ...   \n",
       "46560       46560       Joseph Greer   \n",
       "46561       46561        James Brown   \n",
       "46562       46562      Erik Thompson   \n",
       "46563       46563      Matthew Scott   \n",
       "46566       46566      Matthew Scott   \n",
       "\n",
       "                                                     url  \\\n",
       "0      https://techcrunch.com/2012/12/04/google-annou...   \n",
       "1      https://www.nytimes.com/2023/07/11/us/politics...   \n",
       "2      https://techcrunch.com/2020/05/06/facebook-exo...   \n",
       "3      https://www.nytimes.com/2021/05/27/health/wuha...   \n",
       "4      https://hakaimagazine.com/news/hawksbill-turtl...   \n",
       "...                                                  ...   \n",
       "46560  https://cw39.com/news/local/watch-live-harris-...   \n",
       "46561  https://www.mirror.co.uk/news/world-news/fugit...   \n",
       "46562  https://www.breakingbelizenews.com/2022/08/25/...   \n",
       "46563  https://www.somersetlive.co.uk/news/local-news...   \n",
       "46566  https://www.dorsetecho.co.uk/news/18305867.sco...   \n",
       "\n",
       "                                                 content  \\\n",
       "0      TechCrunch plus-bold TechCrunch Open Navigatio...   \n",
       "1      Skip to content Skip to site index Politics To...   \n",
       "2      TechCrunch plus-bold TechCrunch Open Navigatio...   \n",
       "3      Skip to content Skip to site index Health Toda...   \n",
       "4      Hakai Magazine Skip to content Coastal science...   \n",
       "...                                                  ...   \n",
       "46560  Skip to content CW39 Houston Houston 58° WATCH...   \n",
       "46561  US Edition ▼ US Edition UK Edition Irish Mirro...   \n",
       "46562  Submit News 501-666-6726 [email protected] Hom...   \n",
       "46563  somersetlive Load mobile navigation News Lates...   \n",
       "46566  Newsletters Jobs Homes Motoring Local Listings...   \n",
       "\n",
       "                                                  tokens  \n",
       "0      ['tech', '##cr', '##un', '##ch', 'plus', '-', ...  \n",
       "1      ['skip', 'to', 'content', 'skip', 'to', 'site'...  \n",
       "2      ['tech', '##cr', '##un', '##ch', 'plus', '-', ...  \n",
       "3      ['skip', 'to', 'content', 'skip', 'to', 'site'...  \n",
       "4      ['ha', '##kai', 'magazine', 'skip', 'to', 'con...  \n",
       "...                                                  ...  \n",
       "46560  ['skip', 'to', 'content', 'cw', '##39', 'houst...  \n",
       "46561  ['us', 'edition', '[UNK]', 'us', 'edition', 'u...  \n",
       "46562  ['submit', 'news', '501', '-', '66', '##6', '-...  \n",
       "46563  ['somerset', '##li', '##ve', 'load', 'mobile',...  \n",
       "46566  ['newsletter', '##s', 'jobs', 'homes', 'motor'...  \n",
       "\n",
       "[40245 rows x 5 columns]"
      ]
     },
     "execution_count": 6,
     "metadata": {},
     "output_type": "execute_result"
    }
   ],
   "source": [
    "df.drop_duplicates(subset=['content'])"
   ]
  },
  {
   "cell_type": "code",
   "execution_count": 7,
   "id": "4b73c25b-84ef-4109-96d7-5f75015fed84",
   "metadata": {
    "ExecuteTime": {
     "end_time": "2024-02-15T12:55:21.049310Z",
     "start_time": "2024-02-15T12:55:21.041899Z"
    }
   },
   "outputs": [
    {
     "data": {
      "text/plain": [
       "(46567, 5)"
      ]
     },
     "execution_count": 7,
     "metadata": {},
     "output_type": "execute_result"
    }
   ],
   "source": [
    "df.shape"
   ]
  },
  {
   "cell_type": "code",
   "execution_count": 8,
   "id": "0a33be5e-d4ba-40f0-b2e6-5ffe52ee353a",
   "metadata": {
    "ExecuteTime": {
     "end_time": "2024-02-15T12:55:21.051102Z",
     "start_time": "2024-02-15T12:55:21.045982Z"
    }
   },
   "outputs": [
    {
     "data": {
      "text/plain": [
       "(40630, 2)"
      ]
     },
     "execution_count": 8,
     "metadata": {},
     "output_type": "execute_result"
    }
   ],
   "source": [
    "url_dt.shape"
   ]
  },
  {
   "cell_type": "code",
   "execution_count": 9,
   "id": "b720af66-e5d3-42e5-af11-4943599387b2",
   "metadata": {
    "ExecuteTime": {
     "end_time": "2024-02-15T12:55:23.152155Z",
     "start_time": "2024-02-15T12:55:21.068264Z"
    }
   },
   "outputs": [
    {
     "data": {
      "text/plain": [
       "(31273, 5)"
      ]
     },
     "execution_count": 9,
     "metadata": {},
     "output_type": "execute_result"
    }
   ],
   "source": [
    "df_up = df.merge(url_dt, on = ['name','url'], how = 'inner')\n",
    "df_up.shape"
   ]
  },
  {
   "cell_type": "code",
   "execution_count": 10,
   "id": "5e483479-7251-4229-ba7b-7ba0766f5fd9",
   "metadata": {
    "ExecuteTime": {
     "end_time": "2024-02-15T12:55:36.997638Z",
     "start_time": "2024-02-15T12:55:36.991993Z"
    }
   },
   "outputs": [
    {
     "data": {
      "text/plain": [
       "Index(['Unnamed: 0', 'name', 'url', 'content', 'tokens'], dtype='object')"
      ]
     },
     "execution_count": 10,
     "metadata": {},
     "output_type": "execute_result"
    }
   ],
   "source": [
    "df_up.columns"
   ]
  },
  {
   "cell_type": "code",
   "execution_count": 11,
   "id": "9e1912e3-b248-47fd-930d-da25ee3952fd",
   "metadata": {
    "ExecuteTime": {
     "end_time": "2024-02-15T12:55:37.021005Z",
     "start_time": "2024-02-15T12:55:37.012767Z"
    }
   },
   "outputs": [],
   "source": [
    "df_up.drop('Unnamed: 0',axis = 1, inplace = True)\n",
    "#df_up.head(5)"
   ]
  },
  {
   "cell_type": "code",
   "execution_count": 12,
   "id": "94e2c4df-564b-4a68-8221-f5faa3951512",
   "metadata": {
    "ExecuteTime": {
     "end_time": "2024-02-15T12:55:43.442713Z",
     "start_time": "2024-02-15T12:55:38.387867Z"
    }
   },
   "outputs": [],
   "source": [
    "df_up['flag'] = df_up.apply(lambda row: 1 if str(row['name']).lower() in str(row['content']).lower() else 0, axis=1)\n",
    "#df_up.head(5)"
   ]
  },
  {
   "cell_type": "code",
   "execution_count": 13,
   "id": "ee284528-a3ec-4d1e-bc74-5c0cb98ba9ef",
   "metadata": {
    "ExecuteTime": {
     "end_time": "2024-02-15T12:55:46.758653Z",
     "start_time": "2024-02-15T12:55:43.761292Z"
    }
   },
   "outputs": [],
   "source": [
    "df_up['flag_1'] = df_up.apply(lambda row: 1 if 'wildlife' in str(row['content']).lower() else 0, axis=1)\n",
    "#df_up.head(5)"
   ]
  },
  {
   "cell_type": "code",
   "execution_count": 14,
   "id": "33720bb8-793f-4cf4-9e91-e97f11c97b4b",
   "metadata": {
    "ExecuteTime": {
     "end_time": "2024-02-15T12:55:49.301233Z",
     "start_time": "2024-02-15T12:55:46.758606Z"
    }
   },
   "outputs": [],
   "source": [
    "df_up['flag_2'] = df_up.apply(lambda row: 1 if 'trafficking' in str(row['content']).lower() else 0, axis=1)\n",
    "#df_up.head(5)"
   ]
  },
  {
   "cell_type": "code",
   "execution_count": 15,
   "id": "80105e5d-a43e-4566-b628-95952b28d633",
   "metadata": {
    "ExecuteTime": {
     "end_time": "2024-02-15T12:55:55.732379Z",
     "start_time": "2024-02-15T12:55:55.584810Z"
    }
   },
   "outputs": [],
   "source": [
    "df_up['fin_flag'] = df_up['flag']+df_up['flag_2']+df_up['flag_2']\n",
    "#df_up[df_up.fin_flag >=1]"
   ]
  },
  {
   "cell_type": "code",
   "execution_count": 16,
   "id": "29e376f1-e036-45c4-b703-6c63080fa86c",
   "metadata": {
    "ExecuteTime": {
     "end_time": "2024-02-15T13:24:50.040620Z",
     "start_time": "2024-02-15T13:24:49.146320Z"
    }
   },
   "outputs": [],
   "source": [
    "df_final = df_up[df_up.fin_flag > 0].copy()"
   ]
  },
  {
   "cell_type": "code",
   "execution_count": 17,
   "id": "4b63ab9e-d08b-4af0-8349-b9e8e077c718",
   "metadata": {
    "ExecuteTime": {
     "end_time": "2024-02-15T13:24:50.645840Z",
     "start_time": "2024-02-15T13:24:50.631426Z"
    }
   },
   "outputs": [],
   "source": [
    "#df_final = df_up[df_up.fin_flag ==3]"
   ]
  },
  {
   "cell_type": "code",
   "execution_count": 18,
   "id": "ae6de722-6ac2-4778-93c7-7fa2ed2640dc",
   "metadata": {
    "ExecuteTime": {
     "end_time": "2024-02-15T13:24:51.378510Z",
     "start_time": "2024-02-15T13:24:51.348415Z"
    }
   },
   "outputs": [],
   "source": [
    "#df_final.head(5)"
   ]
  },
  {
   "cell_type": "code",
   "execution_count": 19,
   "id": "94fca28a-78bf-481e-88af-72a8d874b83e",
   "metadata": {
    "ExecuteTime": {
     "end_time": "2024-02-15T13:24:54.145119Z",
     "start_time": "2024-02-15T13:24:54.135968Z"
    }
   },
   "outputs": [],
   "source": [
    "pd.set_option('display.max_colwidth', None)  # For pandas versions < 1.0\n",
    "#pd.set_option('display.max_colwidth', 0)  # For pandas versions >= 1.0\n",
    "#df_final.content"
   ]
  },
  {
   "cell_type": "code",
   "execution_count": 20,
   "id": "392e101a-232d-480b-88f8-cc37c3f0de90",
   "metadata": {
    "ExecuteTime": {
     "end_time": "2024-02-15T13:24:57.960046Z",
     "start_time": "2024-02-15T13:24:54.785764Z"
    }
   },
   "outputs": [],
   "source": [
    "def optimized_extract_relevant_lines(df):\n",
    "    # Preparing a list to hold the results\n",
    "    relevant_contents = []\n",
    "\n",
    "    # Iterating through the DataFrame rows\n",
    "    for _, row in df.iterrows():\n",
    "        name, content = row['name'], row['content']\n",
    "        sentences = content.split('.')\n",
    "        \n",
    "        found_index = -1\n",
    "        for i, sentence in enumerate(sentences):\n",
    "            if name in sentence:\n",
    "                found_index = i\n",
    "                break  # Stop at the first occurrence\n",
    "        \n",
    "        # If the name was found within the content\n",
    "        if found_index != -1:\n",
    "            # Extracting the relevant sentences\n",
    "            start_index = max(found_index - 20, 0)  # Ensure we don't go beyond the start of the list\n",
    "            end_index = min(found_index + 20, len(sentences))  # Ensure we don't go beyond the end of the list, +4 because range is exclusive and we want 3 sentences after the found index\n",
    "            relevant_sentence = '. '.join(sentences[start_index:end_index]).strip() + '.'\n",
    "        else:\n",
    "            relevant_sentence = ''\n",
    "\n",
    "        relevant_contents.append(relevant_sentence)\n",
    "    \n",
    "    return relevant_contents\n",
    "\n",
    "\n",
    "# Adding the extracted relevant sentences to the DataFrame\n",
    "df_final['relevant_content'] = optimized_extract_relevant_lines(df_final)"
   ]
  },
  {
   "cell_type": "code",
   "execution_count": 21,
   "id": "81ca20ed-392c-46ba-82c0-67f9d678235d",
   "metadata": {
    "ExecuteTime": {
     "end_time": "2024-02-15T13:27:48.521079Z",
     "start_time": "2024-02-15T13:27:48.485274Z"
    }
   },
   "outputs": [],
   "source": [
    "df_rep = df_final[['name','url','relevant_content']].copy()"
   ]
  },
  {
   "cell_type": "code",
   "execution_count": 22,
   "id": "6ba8f2c6-cc85-4e90-b211-a965148b10c0",
   "metadata": {
    "ExecuteTime": {
     "end_time": "2024-02-15T13:28:38.262392Z",
     "start_time": "2024-02-15T13:28:38.205138Z"
    }
   },
   "outputs": [
    {
     "data": {
      "text/plain": [
       "(6790, 3)"
      ]
     },
     "execution_count": 22,
     "metadata": {},
     "output_type": "execute_result"
    }
   ],
   "source": [
    "df_rep['relevant_content']=df_rep['relevant_content'].replace('', np.NaN)\n",
    "df_rep_cleaned = df_rep.dropna(subset=['relevant_content'])\n",
    "df_rep_cleaned.shape"
   ]
  },
  {
   "cell_type": "code",
   "execution_count": 23,
   "id": "f5f620fd-40f4-455f-b40a-e514ae04ba6f",
   "metadata": {
    "ExecuteTime": {
     "end_time": "2024-02-15T13:28:41.224305Z",
     "start_time": "2024-02-15T13:28:41.203343Z"
    }
   },
   "outputs": [],
   "source": [
    "#df_rep_cleaned.head(5)"
   ]
  },
  {
   "cell_type": "code",
   "execution_count": 24,
   "id": "781bc74c-5957-4005-8ff6-8c111233b349",
   "metadata": {
    "ExecuteTime": {
     "end_time": "2024-02-15T13:28:53.067612Z",
     "start_time": "2024-02-15T13:28:52.934974Z"
    }
   },
   "outputs": [],
   "source": [
    "#df_rep_cleaned.to_json('exp_fin.json', orient='records', lines=True)"
   ]
  },
  {
   "cell_type": "code",
   "execution_count": 25,
   "id": "892deccc-392c-4788-91c6-d1d8d7ece415",
   "metadata": {},
   "outputs": [],
   "source": [
    "nlp = spacy.load(\"en_core_web_lg\")\n",
    "def analyze_and_flag_dataframe(df):\n",
    "    wildlife_keywords = [\n",
    "    'wildlife', 'trafficking', 'poaching', 'illegal trade', 'endangered species',\n",
    "    'smuggling', 'illegal hunting', 'trade ban violation', 'wildlife crime', 'ivory trade',\n",
    "    'bushmeat trade', 'tigers', 'rhinos', 'elephants', 'pangolins', 'tortoises', 'sea turtles',\n",
    "    'coral', 'sharks', 'shark fins', 'parrots', 'orangutans', 'ivory', 'rhino horn', 'fur',\n",
    "    'skins', 'feathers', 'bile', 'bones', 'meat', 'medicinal products', 'protected areas',\n",
    "    'conservation zones', 'national parks', 'wildlife reserves', 'biodiversity hotspots',\n",
    "    'CITES', 'endangered species act', 'wildlife protection laws', 'conservation efforts',\n",
    "    'anti-poaching units', 'wildlife syndicates', 'trafficking networks', 'illegal markets',\n",
    "    'poaching gangs', 'wildlife laundering', 'cyber wildlife crime'\n",
    "]\n",
    "    human_trafficking_keywords = ['human trafficking', 'human trade', 'slavery', 'murder']\n",
    "    drug_trafficking_keywords = ['drug trafficking', 'narcotics trade', 'illegal drugs', 'cocaine']\n",
    "    drug_related_keywords = [\n",
    "        'drug', 'cocaine', 'fentanyl', 'heroin', 'methamphetamine', 'amphetamine',\n",
    "        'MDMA', 'ecstasy', 'marijuana', 'cannabis', 'LSD', 'psychedelics', 'opioid',\n",
    "        'morphine', 'ketamine', 'crack', 'pcp', 'pills', 'prescription drugs', 'pot'\n",
    "    ]\n",
    "\n",
    "    def analyze_text_for_involvement(name, url, text):\n",
    "        \n",
    "        if any(keyword in url.lower() for keyword in drug_related_keywords):\n",
    "            return 'No'  # Exclude based on URL content\n",
    "            \n",
    "        doc = nlp(text.lower())  \n",
    "        context_flag = False\n",
    "        exclusion_flag = False\n",
    "        \n",
    "        for keyword in wildlife_keywords:\n",
    "            if keyword in text:\n",
    "                context_flag = True\n",
    "                break\n",
    "        \n",
    "        for keyword in human_trafficking_keywords + drug_trafficking_keywords:\n",
    "            if keyword in text:\n",
    "                exclusion_flag = True\n",
    "                break\n",
    "\n",
    "        if context_flag and not exclusion_flag:\n",
    "            for ent in doc.ents:\n",
    "                if ent.label_ == \"PERSON\" and name.lower() in ent.text:\n",
    "                    for token in ent.sent:\n",
    "                        if token.pos_ == \"VERB\" and token.lemma_ in [\"arrest\", \"charge\", \"investigate\", \"convict\"]:\n",
    "                            # Ensure the action is related to wildlife trafficking and not excluded categories\n",
    "                            if any(keyword in token.sent.text for keyword in wildlife_keywords) and not any(exclusion in token.sent.text for exclusion in human_trafficking_keywords + drug_trafficking_keywords):\n",
    "                                # Found a potential involvement indication\n",
    "                                return 'Yes'\n",
    "        return 'No'\n",
    "\n",
    "    df['flag'] = df.apply(lambda row: analyze_text_for_involvement(row['name'], row['url'], row['relevant_content']), axis=1)\n",
    "    \n",
    "    return df"
   ]
  },
  {
   "cell_type": "code",
   "execution_count": 26,
   "id": "6341d14d-2ced-4c85-8380-7551fb7a4523",
   "metadata": {},
   "outputs": [
    {
     "name": "stderr",
     "output_type": "stream",
     "text": [
      "<ipython-input-25-51d2123dd30f>:52: SettingWithCopyWarning: \n",
      "A value is trying to be set on a copy of a slice from a DataFrame.\n",
      "Try using .loc[row_indexer,col_indexer] = value instead\n",
      "\n",
      "See the caveats in the documentation: https://pandas.pydata.org/pandas-docs/stable/user_guide/indexing.html#returning-a-view-versus-a-copy\n",
      "  df['flag'] = df.apply(lambda row: analyze_text_for_involvement(row['name'], row['url'], row['relevant_content']), axis=1)\n"
     ]
    }
   ],
   "source": [
    "df_test_final = analyze_and_flag_dataframe(df_rep_cleaned)"
   ]
  },
  {
   "cell_type": "code",
   "execution_count": 27,
   "id": "3b4133a4-f374-470e-b5bd-32f0684a8edd",
   "metadata": {},
   "outputs": [],
   "source": [
    "df_test_final_up_1 = df_test_final[df_test_final['flag']=='Yes']"
   ]
  },
  {
   "cell_type": "code",
   "execution_count": 28,
   "id": "d82a0f0d-7594-4c61-abc2-7bb460738124",
   "metadata": {},
   "outputs": [
    {
     "data": {
      "text/plain": [
       "(76, 4)"
      ]
     },
     "execution_count": 28,
     "metadata": {},
     "output_type": "execute_result"
    }
   ],
   "source": [
    "df_test_final_up_1.shape"
   ]
  },
  {
   "cell_type": "code",
   "execution_count": 29,
   "id": "feb7c63c-0829-4339-87e6-732fed6a7bd5",
   "metadata": {},
   "outputs": [],
   "source": [
    "df_test_final_up_1.to_json('final_filter.json', orient='records', lines=True)"
   ]
  },
  {
   "cell_type": "code",
   "execution_count": 30,
   "id": "2802f085-7b56-468d-9d4b-6c6f7d5582b8",
   "metadata": {},
   "outputs": [
    {
     "data": {
      "text/html": [
       "<div>\n",
       "<style scoped>\n",
       "    .dataframe tbody tr th:only-of-type {\n",
       "        vertical-align: middle;\n",
       "    }\n",
       "\n",
       "    .dataframe tbody tr th {\n",
       "        vertical-align: top;\n",
       "    }\n",
       "\n",
       "    .dataframe thead th {\n",
       "        text-align: right;\n",
       "    }\n",
       "</style>\n",
       "<table border=\"1\" class=\"dataframe\">\n",
       "  <thead>\n",
       "    <tr style=\"text-align: right;\">\n",
       "      <th></th>\n",
       "      <th>name</th>\n",
       "      <th>url</th>\n",
       "      <th>flag</th>\n",
       "    </tr>\n",
       "  </thead>\n",
       "  <tbody>\n",
       "    <tr>\n",
       "      <th>496</th>\n",
       "      <td>Cody Jackson</td>\n",
       "      <td>https://apnews.com/article/parrot-trafficking-florida-central-america-ec0419765166da98dbc94593d9c1654f</td>\n",
       "      <td>Yes</td>\n",
       "    </tr>\n",
       "    <tr>\n",
       "      <th>1397</th>\n",
       "      <td>David Mendoza</td>\n",
       "      <td>https://www.krqe.com/news/crime/tiger-cub-in-trailer-leads-to-federal-charges-for-albuquerque-man/</td>\n",
       "      <td>Yes</td>\n",
       "    </tr>\n",
       "    <tr>\n",
       "      <th>1590</th>\n",
       "      <td>Jason Holland</td>\n",
       "      <td>https://www.seafoodsource.com/news/supply-trade/seafood-salesman-convicted-of-smuggling-usd-68-million-of-eels-through-britain</td>\n",
       "      <td>Yes</td>\n",
       "    </tr>\n",
       "    <tr>\n",
       "      <th>1848</th>\n",
       "      <td>Kristi Miller</td>\n",
       "      <td>https://www.twincities.com/2020/10/19/anoka-county-sheriff-investigating-death-of-st-paul-man-found-in-wildlife-area/</td>\n",
       "      <td>Yes</td>\n",
       "    </tr>\n",
       "    <tr>\n",
       "      <th>3146</th>\n",
       "      <td>John Thomas</td>\n",
       "      <td>https://www.somerset-kentucky.com/news/local_news/burnside-fugitive-located-in-eubank-storage-unit/article_b8ddf884-8b51-5b87-8eb5-cf4e0c2e392f.html</td>\n",
       "      <td>Yes</td>\n",
       "    </tr>\n",
       "    <tr>\n",
       "      <th>...</th>\n",
       "      <td>...</td>\n",
       "      <td>...</td>\n",
       "      <td>...</td>\n",
       "    </tr>\n",
       "    <tr>\n",
       "      <th>30301</th>\n",
       "      <td>Jeremy Moore</td>\n",
       "      <td>https://raptorpersecutionuk.org/2023/11/27/police-believe-satellite-tagged-golden-eagle-has-come-to-harm-in-south-scotland/</td>\n",
       "      <td>Yes</td>\n",
       "    </tr>\n",
       "    <tr>\n",
       "      <th>30323</th>\n",
       "      <td>Travis Smith</td>\n",
       "      <td>https://flaglerlive.com/smith-lyft-motions/</td>\n",
       "      <td>Yes</td>\n",
       "    </tr>\n",
       "    <tr>\n",
       "      <th>30528</th>\n",
       "      <td>Jackie Stewart</td>\n",
       "      <td>https://www.dailyrecord.co.uk/news/scottish-news/scots-hunters-sadistic-voice-notes-28574547</td>\n",
       "      <td>Yes</td>\n",
       "    </tr>\n",
       "    <tr>\n",
       "      <th>31076</th>\n",
       "      <td>Michael Wood</td>\n",
       "      <td>https://raptorpersecutionuk.org/2015/02/</td>\n",
       "      <td>Yes</td>\n",
       "    </tr>\n",
       "    <tr>\n",
       "      <th>31258</th>\n",
       "      <td>Jerry Jackson</td>\n",
       "      <td>https://www.baltimoresun.com/2019/05/01/more-bald-eagles-found-dead-on-marylands-eastern-shore-as-authorities-struggle-to-solve-systemic-poisonings/</td>\n",
       "      <td>Yes</td>\n",
       "    </tr>\n",
       "  </tbody>\n",
       "</table>\n",
       "<p>76 rows × 3 columns</p>\n",
       "</div>"
      ],
      "text/plain": [
       "                 name  \\\n",
       "496      Cody Jackson   \n",
       "1397    David Mendoza   \n",
       "1590    Jason Holland   \n",
       "1848    Kristi Miller   \n",
       "3146      John Thomas   \n",
       "...               ...   \n",
       "30301    Jeremy Moore   \n",
       "30323    Travis Smith   \n",
       "30528  Jackie Stewart   \n",
       "31076    Michael Wood   \n",
       "31258   Jerry Jackson   \n",
       "\n",
       "                                                                                                                                                        url  \\\n",
       "496                                                  https://apnews.com/article/parrot-trafficking-florida-central-america-ec0419765166da98dbc94593d9c1654f   \n",
       "1397                                                     https://www.krqe.com/news/crime/tiger-cub-in-trailer-leads-to-federal-charges-for-albuquerque-man/   \n",
       "1590                         https://www.seafoodsource.com/news/supply-trade/seafood-salesman-convicted-of-smuggling-usd-68-million-of-eels-through-britain   \n",
       "1848                                  https://www.twincities.com/2020/10/19/anoka-county-sheriff-investigating-death-of-st-paul-man-found-in-wildlife-area/   \n",
       "3146   https://www.somerset-kentucky.com/news/local_news/burnside-fugitive-located-in-eubank-storage-unit/article_b8ddf884-8b51-5b87-8eb5-cf4e0c2e392f.html   \n",
       "...                                                                                                                                                     ...   \n",
       "30301                           https://raptorpersecutionuk.org/2023/11/27/police-believe-satellite-tagged-golden-eagle-has-come-to-harm-in-south-scotland/   \n",
       "30323                                                                                                           https://flaglerlive.com/smith-lyft-motions/   \n",
       "30528                                                          https://www.dailyrecord.co.uk/news/scottish-news/scots-hunters-sadistic-voice-notes-28574547   \n",
       "31076                                                                                                              https://raptorpersecutionuk.org/2015/02/   \n",
       "31258  https://www.baltimoresun.com/2019/05/01/more-bald-eagles-found-dead-on-marylands-eastern-shore-as-authorities-struggle-to-solve-systemic-poisonings/   \n",
       "\n",
       "      flag  \n",
       "496    Yes  \n",
       "1397   Yes  \n",
       "1590   Yes  \n",
       "1848   Yes  \n",
       "3146   Yes  \n",
       "...    ...  \n",
       "30301  Yes  \n",
       "30323  Yes  \n",
       "30528  Yes  \n",
       "31076  Yes  \n",
       "31258  Yes  \n",
       "\n",
       "[76 rows x 3 columns]"
      ]
     },
     "execution_count": 30,
     "metadata": {},
     "output_type": "execute_result"
    }
   ],
   "source": [
    "df_test_final_up_1[['name','url','flag']]"
   ]
  },
  {
   "cell_type": "code",
   "execution_count": null,
   "id": "7938edae-3fd5-4e11-a77e-5f00a0f7b082",
   "metadata": {},
   "outputs": [],
   "source": []
  },
  {
   "cell_type": "code",
   "execution_count": null,
   "id": "58b4352f-8fb4-4d63-8fb7-62a51a46a0c2",
   "metadata": {},
   "outputs": [],
   "source": []
  },
  {
   "cell_type": "code",
   "execution_count": null,
   "id": "c69632d5-ee3d-451e-a135-055e975d46f5",
   "metadata": {},
   "outputs": [],
   "source": []
  },
  {
   "cell_type": "code",
   "execution_count": null,
   "id": "257fa160-f4a2-4f51-9a2a-d293503667d7",
   "metadata": {},
   "outputs": [],
   "source": []
  },
  {
   "cell_type": "code",
   "execution_count": null,
   "id": "33547b1b-aa1c-4c8e-834a-0877f4878d01",
   "metadata": {},
   "outputs": [],
   "source": []
  },
  {
   "cell_type": "code",
   "execution_count": null,
   "id": "e3d25c39-b900-4b53-97b5-c45335374411",
   "metadata": {},
   "outputs": [],
   "source": []
  },
  {
   "cell_type": "code",
   "execution_count": null,
   "id": "8d9d169e-e9b1-43c4-ac78-b657af0e9550",
   "metadata": {},
   "outputs": [],
   "source": []
  },
  {
   "cell_type": "code",
   "execution_count": 122,
   "id": "0a27262c-b5a0-4256-b884-db36df05248c",
   "metadata": {},
   "outputs": [
    {
     "name": "stdout",
     "output_type": "stream",
     "text": [
      "Collecting transformers\n",
      "  Downloading transformers-4.37.2-py3-none-any.whl.metadata (129 kB)\n",
      "     -------------------------------------- 129.4/129.4 kB 2.5 MB/s eta 0:00:00\n",
      "Requirement already satisfied: filelock in c:\\users\\hp\\anaconda3\\envs\\mla\\lib\\site-packages (from transformers) (3.13.1)\n",
      "Collecting huggingface-hub<1.0,>=0.19.3 (from transformers)\n",
      "  Downloading huggingface_hub-0.20.3-py3-none-any.whl.metadata (12 kB)\n",
      "Requirement already satisfied: numpy>=1.17 in c:\\users\\hp\\anaconda3\\envs\\mla\\lib\\site-packages (from transformers) (1.24.3)\n",
      "Requirement already satisfied: packaging>=20.0 in c:\\users\\hp\\anaconda3\\envs\\mla\\lib\\site-packages (from transformers) (23.1)\n",
      "Requirement already satisfied: pyyaml>=5.1 in c:\\users\\hp\\anaconda3\\envs\\mla\\lib\\site-packages (from transformers) (6.0)\n",
      "Requirement already satisfied: regex!=2019.12.17 in c:\\users\\hp\\anaconda3\\envs\\mla\\lib\\site-packages (from transformers) (2023.10.3)\n",
      "Requirement already satisfied: requests in c:\\users\\hp\\anaconda3\\envs\\mla\\lib\\site-packages (from transformers) (2.31.0)\n",
      "Collecting tokenizers<0.19,>=0.14 (from transformers)\n",
      "  Downloading tokenizers-0.15.1-cp38-none-win_amd64.whl.metadata (6.8 kB)\n",
      "Collecting safetensors>=0.4.1 (from transformers)\n",
      "  Downloading safetensors-0.4.2-cp38-none-win_amd64.whl.metadata (3.9 kB)\n",
      "Requirement already satisfied: tqdm>=4.27 in c:\\users\\hp\\anaconda3\\envs\\mla\\lib\\site-packages (from transformers) (4.66.1)\n",
      "Requirement already satisfied: fsspec>=2023.5.0 in c:\\users\\hp\\anaconda3\\envs\\mla\\lib\\site-packages (from huggingface-hub<1.0,>=0.19.3->transformers) (2024.2.0)\n",
      "Requirement already satisfied: typing-extensions>=3.7.4.3 in c:\\users\\hp\\anaconda3\\envs\\mla\\lib\\site-packages (from huggingface-hub<1.0,>=0.19.3->transformers) (4.9.0)\n",
      "Requirement already satisfied: colorama in c:\\users\\hp\\anaconda3\\envs\\mla\\lib\\site-packages (from tqdm>=4.27->transformers) (0.4.6)\n",
      "Requirement already satisfied: charset-normalizer<4,>=2 in c:\\users\\hp\\anaconda3\\envs\\mla\\lib\\site-packages (from requests->transformers) (2.0.4)\n",
      "Requirement already satisfied: idna<4,>=2.5 in c:\\users\\hp\\anaconda3\\envs\\mla\\lib\\site-packages (from requests->transformers) (3.4)\n",
      "Requirement already satisfied: urllib3<3,>=1.21.1 in c:\\users\\hp\\anaconda3\\envs\\mla\\lib\\site-packages (from requests->transformers) (1.26.18)\n",
      "Requirement already satisfied: certifi>=2017.4.17 in c:\\users\\hp\\anaconda3\\envs\\mla\\lib\\site-packages (from requests->transformers) (2023.7.22)\n",
      "Downloading transformers-4.37.2-py3-none-any.whl (8.4 MB)\n",
      "   ---------------------------------------- 8.4/8.4 MB 3.2 MB/s eta 0:00:00\n",
      "Downloading huggingface_hub-0.20.3-py3-none-any.whl (330 kB)\n",
      "   ---------------------------------------- 330.1/330.1 kB 3.4 MB/s eta 0:00:00\n",
      "Downloading safetensors-0.4.2-cp38-none-win_amd64.whl (268 kB)\n",
      "   ---------------------------------------- 268.7/268.7 kB 3.3 MB/s eta 0:00:00\n",
      "Downloading tokenizers-0.15.1-cp38-none-win_amd64.whl (2.2 MB)\n",
      "   ---------------------------------------- 2.2/2.2 MB 2.6 MB/s eta 0:00:00\n",
      "Installing collected packages: safetensors, huggingface-hub, tokenizers, transformers\n",
      "Successfully installed huggingface-hub-0.20.3 safetensors-0.4.2 tokenizers-0.15.1 transformers-4.37.2\n"
     ]
    }
   ],
   "source": [
    "!pip install transformers"
   ]
  },
  {
   "cell_type": "code",
   "execution_count": 24,
   "id": "cd4dcae0-db1f-41b0-9a0c-eba2c8548774",
   "metadata": {
    "ExecuteTime": {
     "end_time": "2024-02-15T14:15:02.513364Z",
     "start_time": "2024-02-15T14:02:43.846508Z"
    }
   },
   "outputs": [
    {
     "name": "stderr",
     "output_type": "stream",
     "text": [
      "tokenizer_config.json: 100%|████████████████████████████████████████████████████████████████| 28.0/28.0 [00:00<?, ?B/s]\n",
      "C:\\Users\\HP\\anaconda3\\envs\\mla\\lib\\site-packages\\huggingface_hub\\file_download.py:149: UserWarning: `huggingface_hub` cache-system uses symlinks by default to efficiently store duplicated files but your machine does not support them in C:\\Users\\HP\\.cache\\huggingface\\hub\\models--distilbert-base-uncased. Caching files will still work but in a degraded version that might require more space on your disk. This warning can be disabled by setting the `HF_HUB_DISABLE_SYMLINKS_WARNING` environment variable. For more details, see https://huggingface.co/docs/huggingface_hub/how-to-cache#limitations.\n",
      "To support symlinks on Windows, you either need to activate Developer Mode or to run Python as an administrator. In order to see activate developer mode, see this article: https://docs.microsoft.com/en-us/windows/apps/get-started/enable-your-device-for-development\n",
      "  warnings.warn(message)\n",
      "config.json: 100%|████████████████████████████████████████████████████████████████████| 483/483 [00:00<00:00, 53.1kB/s]\n",
      "vocab.txt: 100%|████████████████████████████████████████████████████████████████████| 232k/232k [00:00<00:00, 1.17MB/s]\n",
      "tokenizer.json: 100%|███████████████████████████████████████████████████████████████| 466k/466k [00:00<00:00, 2.71MB/s]\n",
      "model.safetensors: 100%|████████████████████████████████████████████████████████████| 268M/268M [01:48<00:00, 2.46MB/s]\n"
     ]
    }
   ],
   "source": [
    "from transformers import AutoTokenizer, AutoModel\n",
    "import torch\n",
    "import numpy as np\n",
    "from sklearn.cluster import KMeans\n",
    "import os\n",
    "\n",
    "os.environ['TOKENIZERS_PARALLELISM'] = 'false'\n",
    "\n",
    "# Load model and tokenizer\n",
    "tokenizer = AutoTokenizer.from_pretrained(\"distilbert-base-uncased\")\n",
    "model = AutoModel.from_pretrained(\"distilbert-base-uncased\")\n",
    "\n",
    "# Function to generate embeddings\n",
    "def get_embeddings(text):\n",
    "    inputs = tokenizer(text, return_tensors=\"pt\", padding=True, truncation=True, max_length=512)\n",
    "    outputs = model(**inputs)\n",
    "    return outputs.last_hidden_state.mean(dim=1).detach().cpu().numpy()\n",
    "\n",
    "# Example usage\n",
    "texts = df_rep_cleaned['relevant_content'].tolist()\n",
    "embeddings = np.vstack([get_embeddings(text) for text in texts])\n",
    "\n",
    "# Clustering embeddings\n",
    "kmeans = KMeans(n_clusters=5, random_state=42).fit(embeddings)"
   ]
  },
  {
   "cell_type": "code",
   "execution_count": null,
   "id": "2eab8c00000dd16a",
   "metadata": {
    "ExecuteTime": {
     "start_time": "2024-02-15T16:08:48.347766Z"
    },
    "collapsed": false,
    "is_executing": true,
    "jupyter": {
     "outputs_hidden": false
    }
   },
   "outputs": [
    {
     "name": "stderr",
     "output_type": "stream",
     "text": [
      "config.json: 100%|█████████████████████████████████████████████████████████████████| 1.15k/1.15k [00:00<00:00, 120kB/s]\n",
      "C:\\Users\\HP\\anaconda3\\envs\\mla\\lib\\site-packages\\huggingface_hub\\file_download.py:149: UserWarning: `huggingface_hub` cache-system uses symlinks by default to efficiently store duplicated files but your machine does not support them in C:\\Users\\HP\\.cache\\huggingface\\hub\\models--facebook--bart-large-mnli. Caching files will still work but in a degraded version that might require more space on your disk. This warning can be disabled by setting the `HF_HUB_DISABLE_SYMLINKS_WARNING` environment variable. For more details, see https://huggingface.co/docs/huggingface_hub/how-to-cache#limitations.\n",
      "To support symlinks on Windows, you either need to activate Developer Mode or to run Python as an administrator. In order to see activate developer mode, see this article: https://docs.microsoft.com/en-us/windows/apps/get-started/enable-your-device-for-development\n",
      "  warnings.warn(message)\n",
      "model.safetensors: 100%|██████████████████████████████████████████████████████████| 1.63G/1.63G [02:07<00:00, 12.8MB/s]\n",
      "tokenizer_config.json: 100%|████████████████████████████████████████████████████████| 26.0/26.0 [00:00<00:00, 1.66kB/s]\n",
      "vocab.json: 100%|███████████████████████████████████████████████████████████████████| 899k/899k [00:00<00:00, 13.2MB/s]\n",
      "merges.txt: 100%|███████████████████████████████████████████████████████████████████| 456k/456k [00:00<00:00, 28.4MB/s]\n",
      "tokenizer.json: 100%|█████████████████████████████████████████████████████████████| 1.36M/1.36M [00:00<00:00, 12.7MB/s]\n",
      "\n",
      "KeyboardInterrupt\n",
      "\n"
     ]
    }
   ],
   "source": [
    "from transformers import pipeline\n",
    "classifier=pipeline('zero-shot-classification',model='facebook/bart-large-mnli')\n",
    "texts=df_rep_cleaned['relevant_content']\n",
    "labels=['wildlife trafficking', 'animal poaching','other']\n",
    "def classify_text(text):\n",
    "    result=classifier(text, candidate_labels=labels,multi_label=True)\n",
    "    predicted_labels=result['labels']\n",
    "    scores=result['scores']\n",
    "    return predicted_labels,scores\n",
    "results=df_rep_cleaned['relevant_content'].apply(lambda x: classify_text(x))\n",
    "df_rep_cleaned['predicted_labels'],df_rep_cleaned['scores']=zip(*results)"
   ]
  },
  {
   "cell_type": "code",
   "execution_count": null,
   "id": "df9c114b-861d-4eb5-a61f-ba3664537e78",
   "metadata": {
    "is_executing": true
   },
   "outputs": [],
   "source": [
    "# Define a threshold for considering a label as confidently predicted\n",
    "confidence_threshold = 0.5\n",
    "\n",
    "# Filter for entries with high confidence in relevant labels\n",
    "def filter_relevant_entries(labels, scores):\n",
    "    relevant_labels = ['wildlife trafficking', 'animal poaching']\n",
    "    return any(label in relevant_labels and score >= confidence_threshold for label, score in zip(labels, scores))\n",
    "\n",
    "# Apply filtering\n",
    "df_rep_cleaned['is_relevant'] = df_rep_cleaned.apply(lambda x: filter_relevant_entries(x['predicted_labels'], x['scores']), axis=1)\n",
    "\n",
    "# Filter the DataFrame to keep only relevant entries\n",
    "df_relevant = df_rep_cleaned[df_rep_cleaned['is_relevant']]"
   ]
  },
  {
   "cell_type": "code",
   "execution_count": null,
   "id": "37a919a8-fc99-42df-af8b-a2272cd4ac0b",
   "metadata": {},
   "outputs": [],
   "source": []
  }
 ],
 "metadata": {
  "kernelspec": {
   "display_name": "Python 3",
   "language": "python",
   "name": "python3"
  },
  "language_info": {
   "codemirror_mode": {
    "name": "ipython",
    "version": 3
   },
   "file_extension": ".py",
   "mimetype": "text/x-python",
   "name": "python",
   "nbconvert_exporter": "python",
   "pygments_lexer": "ipython3",
   "version": "3.8.18"
  }
 },
 "nbformat": 4,
 "nbformat_minor": 5
}
